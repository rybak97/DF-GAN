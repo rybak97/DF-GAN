{
 "cells": [
  {
   "cell_type": "code",
   "execution_count": 1,
   "id": "wound-dress",
   "metadata": {},
   "outputs": [],
   "source": [
    "import os\n",
    "import sys"
   ]
  },
  {
   "cell_type": "code",
   "execution_count": 2,
   "id": "incorrect-labor",
   "metadata": {},
   "outputs": [],
   "source": [
    "current_cwd = os.getcwd()\n",
    "src_path = '/'.join(current_cwd.split('/')[:-1])\n",
    "sys.path.append(src_path)"
   ]
  },
  {
   "cell_type": "code",
   "execution_count": 3,
   "id": "gorgeous-authorization",
   "metadata": {},
   "outputs": [],
   "source": [
    "from train import train\n",
    "from utils import plot_losses"
   ]
  },
  {
   "cell_type": "code",
   "execution_count": 4,
   "id": "respective-baking",
   "metadata": {},
   "outputs": [],
   "source": [
    "g_losses_epoch, d_losses_epoch, d_gp_losses_epoch = train()"
   ]
  },
  {
   "cell_type": "code",
   "execution_count": 5,
   "id": "adjusted-terrorist",
   "metadata": {},
   "outputs": [],
   "source": [
    "plot_losses(g_losses_epoch, d_losses_epoch, d_gp_losses_epoch)"
   ]
  }
 ],
 "metadata": {
  "kernelspec": {
   "display_name": "Python 3 (ipykernel)",
   "language": "python",
   "name": "python3"
  },
  "language_info": {
   "codemirror_mode": {
    "name": "ipython",
    "version": 3
   },
   "file_extension": ".py",
   "mimetype": "text/x-python",
   "name": "python",
   "nbconvert_exporter": "python",
   "pygments_lexer": "ipython3",
   "version": "3.7.9"
  }
 },
 "nbformat": 4,
 "nbformat_minor": 5
}
